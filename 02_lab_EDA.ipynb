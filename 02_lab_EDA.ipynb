{
 "cells": [
  {
   "cell_type": "markdown",
   "id": "bc9520d2",
   "metadata": {},
   "source": [
    "# Лабораторная работа №2\n",
    "\n",
    "ФИО:   Урусов Иван Егорович\n",
    "Группа: БИВТ-21-1\n"
   ]
  },
  {
   "cell_type": "markdown",
   "id": "a612f27c",
   "metadata": {},
   "source": [
    "# 1.Датасет Students Performance in Exams"
   ]
  },
  {
   "cell_type": "markdown",
   "id": "fdf7a7a8",
   "metadata": {},
   "source": [
    "# 1.Датасет Student Alcohol Consumption"
   ]
  },
  {
   "cell_type": "markdown",
   "id": "0d119028",
   "metadata": {},
   "source": [
    "## 2. Описание постановки задачи"
   ]
  },
  {
   "cell_type": "markdown",
   "id": "ceaa030a",
   "metadata": {},
   "source": [
    "Провести разведочный анализ данных на примере датасета Student Alcohol Consumption.\n",
    "Целевой переменной будет выбран параметр G3, который означает сколько баллов набрано за год обучения.\n",
    "\n",
    " **Датасет содержит колонки, каждая из которых:**\n",
    "- romantic: состоит ли в отношениях.\n",
    "- sex: пол.\n",
    "- parental level of education: Образование родителей.\n",
    "- lunch: стандартный ли обед или со льготами.\n",
    "- test preparation course: завершены ли подготовительные курсы.\n",
    "- math score: баллы за математику.\n",
    "- reading score: баллы за чтение.\n",
    "- writing score: баллы за письменный экзамен.\n",
    "\n",
    "\n",
    "Целевой переменной будет выбран параметр G3, который означает сколько баллов набрано за год обучения.\n",
    "\n"
   ]
  },
  {
   "cell_type": "code",
   "execution_count": null,
   "id": "ac34277d",
   "metadata": {},
   "outputs": [],
   "source": [
    "import pandas as pd\n",
    "import numpy as np\n",
    "import matplotlib as mpl\n",
    "import matplotlib.pyplot as plt\n",
    "import seaborn as sns"
   ]
  },
  {
   "cell_type": "markdown",
   "id": "34931f43",
   "metadata": {},
   "source": [
    "## 3. Распределение целевой переменной"
   ]
  },
  {
   "cell_type": "code",
   "execution_count": null,
   "id": "67a611d0",
   "metadata": {},
   "outputs": [],
   "source": []
  },
  {
   "cell_type": "markdown",
   "id": "92afb067",
   "metadata": {},
   "source": []
  },
  {
   "cell_type": "code",
   "execution_count": null,
   "id": "8a586cf9",
   "metadata": {},
   "outputs": [],
   "source": []
  }
 ],
 "metadata": {
  "kernelspec": {
   "display_name": "nn-ml-bachelor-2024-venv",
   "language": "python",
   "name": "nn-ml-bachelor-2024-venv"
  },
  "language_info": {
   "codemirror_mode": {
    "name": "ipython",
    "version": 3
   },
   "file_extension": ".py",
   "mimetype": "text/x-python",
   "name": "python",
   "nbconvert_exporter": "python",
   "pygments_lexer": "ipython3",
   "version": "3.9.6"
  }
 },
 "nbformat": 4,
 "nbformat_minor": 5
}
