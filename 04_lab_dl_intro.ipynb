{
 "cells": [
  {
   "cell_type": "markdown",
   "id": "bc9520d2",
   "metadata": {},
   "source": [
    "# Лабораторная работа №4\n",
    "\n",
    "ФИО: Гуляев Максим Олегович\n",
    "Группа: БИВТ-21-1\n",
    "\n",
    "\n",
    "## Задание\n",
    "\n",
    "Исходные данные:\n",
    "1. В [табличке](https://docs.google.com/spreadsheets/d/11600OkqdRzxc-xZmFTuBs099VeAqU_GlE0Bx6bBlIRE/edit?usp=sharing) необходимо узнать название своего датасета \n",
    "2. Скачать нужны вам данные можно в [Google Drive](https://drive.google.com/drive/folders/1Phm-Fq1GL-VX7NS-DCEMRh_Fo1wU7DQ9?usp=sharing)\n",
    "  \n",
    "---\n",
    "Теперь по пунктам, что я от вас жду:  \n",
    "1. Загрузить необходимые данные к себе и считать (read) их в переменную.\n",
    "2. Понять, у вас задача классификации (бинарной или многоклассовой) или регрессии.\n",
    "3. Сделать предобработку данных:  \n",
    "     1. Разделить выборку на тренировочную (train) и тестовую (test). _Обратите внимание, что обучать скейлеры и определять, какими значениями вы будете заполнять пропуски, вы будете на train выборке, а применять и на train, и на test_.\n",
    "     2. Проверить пропуски в данных. Если они есть, заполнить одной из стратегий, предложенных в ноутбуке для семинара №3. P.S. Для численных и категориальных переменных будут разные стратегии.\n",
    "     3. Отнормировать численные переменные (`StandardScaler`, `MinMaxScaler`).\n",
    "     4. Закодировать категориальные признаки по одной из стратегий.\n",
    "4. Оформить данные в виде класса `Dataset` из библиотеки `torch` (как мы это делали на семинаре), а затем засунуть в `Dataloader` (тоже делали на семинаре).\n",
    "5. Обучить на тренировочном множестве:\n",
    "     1. Очень простую однослойную нейросеть с оптимизатором `SGD` ([link](https://pytorch.org/docs/stable/optim.html)).\n",
    "     2. Нейросеть посложнее (с 1 скрытым слоем) с оптимизатором `Adam` ([link](https://pytorch.org/docs/stable/optim.html)).\n",
    "     3. Нейросеть еще сложнее (с 3+ скрытыми слоями) с оптимизатором `Adam` ([link](https://pytorch.org/docs/stable/optim.html)).\n",
    "6. Посчитайте loss на train и test множествах, в зависимости от эпохи обучения. Провизуализируйте это с помощью библиотеки `matplotlib` (выйдет так называемая **learning curve**, кривая обучения модели).\n",
    "6. Посчитайте метрики на train и test множествах:\n",
    "     1. Для задачи классификации -- Accuracy\n",
    "     2. Для задачи регрессии -- MAE\n",
    "7. Сравните метрики относительно train/test, так и относительно разных моделей. Ответьте на следующие вопросы:\n",
    "     1. Какая модель справилась лучше с поставленной задачей?\n",
    "     2. Имеет ли место переобучение?\n",
    "     3. Имеет ли место недообучение?\n",
    "     4. Как можно улучшить метрики моделей?"
   ]
  },
  {
   "cell_type": "markdown",
   "id": "28b51062",
   "metadata": {},
   "source": [
    "## 1. Пример импорта данных. Грузим данные"
   ]
  },
  {
   "cell_type": "code",
   "execution_count": 1,
   "id": "406597a7",
   "metadata": {},
   "outputs": [
    {
     "name": "stdout",
     "output_type": "stream",
     "text": [
      "Index(['school', 'sex', 'age', 'address', 'famsize', 'Pstatus', 'Medu', 'Fedu',\n",
      "       'Mjob', 'Fjob', 'reason', 'guardian', 'traveltime', 'studytime',\n",
      "       'failures', 'schoolsup', 'famsup', 'paid', 'activities', 'nursery',\n",
      "       'higher', 'internet', 'romantic', 'famrel', 'freetime', 'goout', 'Dalc',\n",
      "       'Walc', 'health', 'absences', 'G1', 'G2', 'G3'],\n",
      "      dtype='object')\n"
     ]
    }
   ],
   "source": [
    "import pandas as pd\n",
    "data = pd.read_csv(\"student-por.csv\", sep=',') \n",
    "print(data.columns)"
   ]
  },
  {
   "cell_type": "markdown",
   "id": "0d119028",
   "metadata": {},
   "source": [
    "## 2. Понимаем, какая перед нами задача"
   ]
  },
  {
   "cell_type": "markdown",
   "id": "4c569ac0-0771-4115-8ea7-609e0d8fe20f",
   "metadata": {},
   "source": [
    "Цель:\n",
    "\n",
    "Научиться применять различные методы машинного обучения для решения задачи регрессии. Научиться загружать и предобрабатывать данные, обучать модели, оценивать их производительность и сравнивать результаты.\n",
    "\n",
    "Тип задачи:\n",
    "\n",
    "В данном случае задача регрессии, поскольку итоговая оценка ученика по предмету(G3), является непрерывной числовой переменной."
   ]
  },
  {
   "cell_type": "markdown",
   "id": "34931f43",
   "metadata": {},
   "source": [
    "## 3. Делаем предобработку данных"
   ]
  },
  {
   "cell_type": "code",
   "execution_count": 2,
   "id": "67a611d0",
   "metadata": {},
   "outputs": [],
   "source": [
    "# Разделение данных на тренировочную и тестовую выборки\n",
    "train = data[int(len(data)*0.2):]  \n",
    "test = data[:int(len(data)*0.2)]"
   ]
  },
  {
   "cell_type": "code",
   "execution_count": 3,
   "id": "ca6d8ba6-a779-4211-9a43-129666b0b4cd",
   "metadata": {},
   "outputs": [
    {
     "name": "stdout",
     "output_type": "stream",
     "text": [
      "school        0\n",
      "sex           0\n",
      "age           0\n",
      "address       0\n",
      "famsize       0\n",
      "Pstatus       0\n",
      "Medu          0\n",
      "Fedu          0\n",
      "Mjob          0\n",
      "Fjob          0\n",
      "reason        0\n",
      "guardian      0\n",
      "traveltime    0\n",
      "studytime     0\n",
      "failures      0\n",
      "schoolsup     0\n",
      "famsup        0\n",
      "paid          0\n",
      "activities    0\n",
      "nursery       0\n",
      "higher        0\n",
      "internet      0\n",
      "romantic      0\n",
      "famrel        0\n",
      "freetime      0\n",
      "goout         0\n",
      "Dalc          0\n",
      "Walc          0\n",
      "health        0\n",
      "absences      0\n",
      "G1            0\n",
      "G2            0\n",
      "G3            0\n",
      "dtype: int64\n"
     ]
    }
   ],
   "source": [
    "# Проверка пропусков в данных\n",
    "print(train.isnull().sum())"
   ]
  },
  {
   "cell_type": "code",
   "execution_count": 4,
   "id": "d49b91ad-c927-4d94-a564-aecd571487d2",
   "metadata": {},
   "outputs": [
    {
     "name": "stdout",
     "output_type": "stream",
     "text": [
      "Данные до преобразования:\n",
      "    school sex  age address famsize Pstatus  Medu  Fedu      Mjob     Fjob  \\\n",
      "129     GP   M   16       U     GT3       T     2     3     other    other   \n",
      "130     GP   F   15       R     GT3       T     3     4  services  teacher   \n",
      "131     GP   F   18       U     GT3       T     2     1  services    other   \n",
      "132     GP   F   17       U     LE3       A     2     1     other    other   \n",
      "133     GP   F   15       U     GT3       T     1     1   at_home    other   \n",
      "\n",
      "     ... famrel freetime  goout  Dalc  Walc health absences  G1  G2  G3  \n",
      "129  ...      3        2      3     2     2      1        4  13  12  13  \n",
      "130  ...      4        2      2     2     2      5        0  10  11  12  \n",
      "131  ...      5        4      5     1     3      5       10  10   9   8  \n",
      "132  ...      3        2      2     1     2      5        8  11  10  11  \n",
      "133  ...      4        3      3     1     2      4        6  11  12  13  \n",
      "\n",
      "[5 rows x 33 columns]\n",
      "\n",
      "Разделение по группам:\n",
      "['num__age' 'num__Medu' 'num__Fedu' 'num__traveltime' 'num__studytime'\n",
      " 'num__failures' 'num__famrel' 'num__freetime' 'num__goout' 'num__Dalc'\n",
      " 'num__Walc' 'num__health' 'num__absences' 'num__G1' 'num__G2' 'num__G3'\n",
      " 'cat__school_GP' 'cat__school_MS' 'cat__sex_F' 'cat__sex_M'\n",
      " 'cat__address_R' 'cat__address_U' 'cat__famsize_GT3' 'cat__famsize_LE3'\n",
      " 'cat__Pstatus_A' 'cat__Pstatus_T' 'cat__Mjob_at_home' 'cat__Mjob_health'\n",
      " 'cat__Mjob_other' 'cat__Mjob_services' 'cat__Mjob_teacher'\n",
      " 'cat__Fjob_at_home' 'cat__Fjob_health' 'cat__Fjob_other'\n",
      " 'cat__Fjob_services' 'cat__Fjob_teacher' 'cat__reason_course'\n",
      " 'cat__reason_home' 'cat__reason_other' 'cat__reason_reputation'\n",
      " 'cat__guardian_father' 'cat__guardian_mother' 'cat__guardian_other'\n",
      " 'cat__schoolsup_no' 'cat__schoolsup_yes' 'cat__famsup_no'\n",
      " 'cat__famsup_yes' 'cat__paid_no' 'cat__paid_yes' 'cat__activities_no'\n",
      " 'cat__activities_yes' 'cat__nursery_no' 'cat__nursery_yes'\n",
      " 'cat__higher_no' 'cat__higher_yes' 'cat__internet_no' 'cat__internet_yes'\n",
      " 'cat__romantic_no' 'cat__romantic_yes'] \n",
      "\n",
      "\n",
      "\n",
      "Преобразованные данные:\n",
      "         0         1         2         3         4         5         6   \\\n",
      "0 -0.915086 -0.342068  0.738188  0.483616  1.379652 -0.411406 -0.949977   \n",
      "1 -1.794651  0.551779  1.663146  0.483616  1.379652 -0.411406  0.094395   \n",
      "2  0.844044 -0.342068 -1.111728 -0.826178  0.138443  4.414108  1.138768   \n",
      "3 -0.035521 -0.342068 -1.111728  1.793411 -1.102767 -0.411406 -0.949977   \n",
      "4 -1.794651 -1.235915 -1.111728  1.793411 -1.102767 -0.411406  0.094395   \n",
      "\n",
      "         7         8         9   ...   49   50   51   52   53   54   55   56  \\\n",
      "0 -1.096615 -0.195212  0.500252  ...  1.0  0.0  1.0  0.0  0.0  1.0  0.0  1.0   \n",
      "1 -1.096615 -1.034141  0.500252  ...  1.0  0.0  0.0  1.0  0.0  1.0  0.0  1.0   \n",
      "2  0.804185  1.482646 -0.565859  ...  0.0  1.0  0.0  1.0  1.0  0.0  0.0  1.0   \n",
      "3 -1.096615 -1.034141 -0.565859  ...  1.0  0.0  0.0  1.0  0.0  1.0  0.0  1.0   \n",
      "4 -0.146215 -0.195212 -0.565859  ...  0.0  1.0  1.0  0.0  0.0  1.0  0.0  1.0   \n",
      "\n",
      "    57   58  \n",
      "0  0.0  1.0  \n",
      "1  0.0  1.0  \n",
      "2  0.0  1.0  \n",
      "3  1.0  0.0  \n",
      "4  0.0  1.0  \n",
      "\n",
      "[5 rows x 59 columns]\n"
     ]
    }
   ],
   "source": [
    "from sklearn.compose import ColumnTransformer\n",
    "from sklearn.preprocessing import StandardScaler, OneHotEncoder\n",
    "\n",
    "# Определение численных и категориальных столбцов\n",
    "num_cols = ['age', 'Medu', 'Fedu', 'traveltime', 'studytime', 'failures', 'famrel', 'freetime', 'goout', 'Dalc', 'Walc', 'health', 'absences', 'G1', 'G2', 'G3']\n",
    "cat_cols = ['school', 'sex', 'address', 'famsize', 'Pstatus', 'Mjob', 'Fjob', 'reason', 'guardian', 'schoolsup', 'famsup', 'paid', 'activities', 'nursery', 'higher', 'internet', 'romantic']\n",
    "\n",
    "# Создание преобразователя колонок\n",
    "preprocessor = ColumnTransformer(transformers=[('num', StandardScaler(), num_cols), ('cat', OneHotEncoder(), cat_cols)])\n",
    "\n",
    "# Применение преобразований к тренировочным и тестовым данным\n",
    "train_preprocessed = preprocessor.fit_transform(train)\n",
    "test_preprocessed = preprocessor.transform(test)\n",
    "\n",
    "print(\"Данные до преобразования:\")\n",
    "print(train.head())\n",
    "\n",
    "# Преобразование в DataFrame (это не обязательно, но может быть полезно для дальнейшего анализа)\n",
    "train_preprocessed_df = pd.DataFrame(train_preprocessed)\n",
    "test_preprocessed_df = pd.DataFrame(test_preprocessed)\n",
    "\n",
    "# Вывод преобразованных данных\n",
    "print(\"\\nРазделение по группам:\")\n",
    "print(preprocessor.get_feature_names_out(), \"\\n\\n\")\n",
    "print(\"\\nПреобразованные данные:\")\n",
    "print(train_preprocessed_df.head())"
   ]
  },
  {
   "cell_type": "markdown",
   "id": "9d48957f-cdf7-49aa-967d-c7a735113602",
   "metadata": {},
   "source": [
    "## 4. Оформление данных"
   ]
  },
  {
   "cell_type": "code",
   "execution_count": 5,
   "id": "90c533d4-0c6b-476b-b5b6-7dd89089b215",
   "metadata": {},
   "outputs": [
    {
     "name": "stdout",
     "output_type": "stream",
     "text": [
      "Batch data: tensor([[-0.9151, -1.2359, -1.1117,  ...,  1.0000,  0.0000,  1.0000],\n",
      "        [ 0.8440, -1.2359, -1.1117,  ...,  1.0000,  1.0000,  0.0000],\n",
      "        [-0.9151, -0.3421, -1.1117,  ...,  1.0000,  1.0000,  0.0000],\n",
      "        ...,\n",
      "        [-0.9151,  0.5518,  0.7382,  ...,  1.0000,  1.0000,  0.0000],\n",
      "        [-0.0355, -1.2359, -1.1117,  ...,  1.0000,  1.0000,  0.0000],\n",
      "        [-0.9151, -1.2359, -1.1117,  ...,  1.0000,  1.0000,  0.0000]])\n",
      "Batch target: tensor([ 0.6524, -0.5094,  0.6524, -1.0903,  0.3619,  1.2332,  0.0715, -0.2189,\n",
      "         0.9428, -0.2189, -0.7998, -1.0903, -3.4138,  0.0715,  0.9428,  0.3619,\n",
      "         0.9428,  0.3619, -1.0903,  0.0715, -0.7998, -0.7998,  1.5237, -0.5094,\n",
      "        -0.5094, -0.7998,  0.9428, -0.5094,  0.3619, -0.5094, -0.5094, -0.7998])\n"
     ]
    }
   ],
   "source": [
    "import torch\n",
    "import numpy as np\n",
    "from torch.utils.data import Dataset, DataLoader\n",
    "\n",
    "# Определение класса Dataset\n",
    "class CustomDataset(Dataset):\n",
    "    def __init__(self, data, targets):\n",
    "        self.data = data\n",
    "        self.targets = targets\n",
    "\n",
    "    def __len__(self):\n",
    "        return len(self.data)\n",
    "\n",
    "    def __getitem__(self, idx):\n",
    "        return self.data[idx], self.targets[idx]\n",
    "\n",
    "y = train_preprocessed[:, len(num_cols) - 1] # только G3\n",
    "y_test = test_preprocessed[:, len(num_cols) - 1] # только G3\n",
    "x = np.delete(train_preprocessed, len(num_cols) - 1, axis=1) # все столбцы, кроме G3\n",
    "x_test = np.delete(test_preprocessed, len(num_cols) - 1, axis=1) # все столбцы, кроме G3\n",
    "\n",
    "# Создание экземпляров MyDataset\n",
    "train_dataset = CustomDataset(torch.from_numpy(x).float(), torch.from_numpy(y).float())\n",
    "test_dataset = CustomDataset(torch.from_numpy(x_test).float(), torch.from_numpy(y_test).float())\n",
    "\n",
    "# Загрузка данных в DataLoader\n",
    "train_dataloader = DataLoader(train_dataset, batch_size=32, shuffle=True)\n",
    "test_dataloader = DataLoader(test_dataset, batch_size=32, shuffle=False)\n",
    "\n",
    "# Проверка работы DataLoader\n",
    "for data, target in train_dataloader:\n",
    "    print(\"Batch data:\", data)\n",
    "    print(\"Batch target:\", target)\n",
    "    break  "
   ]
  },
  {
   "cell_type": "markdown",
   "id": "d41f756a-8ff9-4eee-b465-0e564849c5b3",
   "metadata": {},
   "source": [
    "## 5. Обучение на тренировочном множестве"
   ]
  },
  {
   "cell_type": "markdown",
   "id": "014fcca8-c0d8-43c3-9a5c-a67f0d016882",
   "metadata": {},
   "source": [
    "### 5.1 Определение моделей"
   ]
  },
  {
   "cell_type": "code",
   "execution_count": 6,
   "id": "9cbe980f-6b75-40c1-b534-63f53fad78d0",
   "metadata": {},
   "outputs": [],
   "source": [
    "import torch.nn as nn\n",
    "import torch.optim as optim"
   ]
  },
  {
   "cell_type": "code",
   "execution_count": 7,
   "id": "df79a422-b0d4-4d65-ad5b-b9909c833f1a",
   "metadata": {},
   "outputs": [],
   "source": [
    "class SimpleNet(nn.Module):\n",
    "    def __init__(self, input_size, output_size):\n",
    "        super(SimpleNet, self).__init__()\n",
    "        self.linear = nn.Linear(input_size, output_size)\n",
    "\n",
    "    def forward(self, x):\n",
    "        out = self.linear(x)\n",
    "        return out"
   ]
  },
  {
   "cell_type": "code",
   "execution_count": 8,
   "id": "0c68f7fa-e560-499c-9af3-928a46560e1a",
   "metadata": {},
   "outputs": [],
   "source": [
    "class OneHiddenLayerNet(nn.Module):\n",
    "    def __init__(self, input_size, hidden_size, output_size):\n",
    "        super(OneHiddenLayerNet, self).__init__()\n",
    "        self.layer1 = nn.Linear(input_size, hidden_size)\n",
    "        self.relu = nn.ReLU()\n",
    "        self.layer2 = nn.Linear(hidden_size, output_size)\n",
    "\n",
    "    def forward(self, x):\n",
    "        out = self.layer1(x)\n",
    "        out = self.relu(out)\n",
    "        out = self.layer2(out)\n",
    "        return out"
   ]
  },
  {
   "cell_type": "code",
   "execution_count": 9,
   "id": "4f913407-a316-423f-a28e-7770339632db",
   "metadata": {},
   "outputs": [],
   "source": [
    "class MultiLayerNet(nn.Module):\n",
    "    def __init__(self, input_size, hidden_size, output_size):\n",
    "        super(MultiLayerNet, self).__init__()\n",
    "        self.layer1 = nn.Linear(input_size, hidden_size)\n",
    "        self.layer2 = nn.Linear(hidden_size, hidden_size)\n",
    "        self.layer3 = nn.Linear(hidden_size, hidden_size)\n",
    "        self.layer4 = nn.Linear(hidden_size, output_size)\n",
    "        self.relu = nn.ReLU()\n",
    "\n",
    "    def forward(self, x):\n",
    "        out = self.layer1(x)\n",
    "        out = self.relu(out)\n",
    "        out = self.layer2(out)\n",
    "        out = self.relu(out)\n",
    "        out = self.layer3(out)\n",
    "        out = self.relu(out)\n",
    "        out = self.layer4(out)\n",
    "        return out"
   ]
  },
  {
   "cell_type": "markdown",
   "id": "6d526eb1-4a46-486d-ba62-b6eb9adfe332",
   "metadata": {},
   "source": [
    "### 5.2 Определение тренировочного класса"
   ]
  },
  {
   "cell_type": "code",
   "execution_count": 10,
   "id": "4f01e298-a737-4489-a21c-d9681f68204f",
   "metadata": {},
   "outputs": [],
   "source": [
    "class ModelTrainer:\n",
    "    def __init__(self, model, useAdam, modelName):\n",
    "        self.model = model\n",
    "        self.criterion = nn.MSELoss()\n",
    "        self.modelName = modelName\n",
    "        self.optimizer = self._choose_optimizer(useAdam)\n",
    "\n",
    "    def _choose_optimizer(self, useAdam):\n",
    "        if useAdam:\n",
    "            return optim.Adam(self.model.parameters(), lr=0.01)\n",
    "        else:\n",
    "            return optim.SGD(self.model.parameters(), lr=0.01)\n",
    "\n",
    "    def _train_epoch(self, trainData):\n",
    "        self.model.train()\n",
    "        train_loss = 0\n",
    "        for inputs, targets in trainData:\n",
    "            inputs, targets = self._prepare_data(inputs, targets)\n",
    "            self.optimizer.zero_grad()\n",
    "            outputs = self.model(inputs)\n",
    "            loss = self.criterion(outputs, targets)\n",
    "            loss.backward()\n",
    "            self.optimizer.step()\n",
    "            train_loss += loss.item()\n",
    "        return train_loss / len(trainData)\n",
    "\n",
    "    def _prepare_data(self, inputs, targets):\n",
    "        inputs = inputs.float()\n",
    "        targets = targets.float().view(-1, 1)\n",
    "        return inputs, targets\n",
    "\n",
    "    def doTrain(self, epoches, trainData, testData):\n",
    "        train_losses, test_losses = [], []\n",
    "        for epoch in range(epoches):\n",
    "            train_losses.append(self._train_epoch(trainData))\n",
    "            test_losses.append(self.testModel(testData))\n",
    "            print(f\"Finished training of epoch - {epoch} with train loss - {train_losses[-1]} and test loss - {test_losses[-1]}\")\n",
    "        return train_losses, test_losses  \n",
    "\n",
    "    def testModel(self, testData):\n",
    "        self.model.eval()\n",
    "        test_loss = 0\n",
    "        with torch.no_grad():\n",
    "            for inputs, targets in testData:\n",
    "                inputs, targets = self._prepare_data(inputs, targets)\n",
    "                outputs = self.model(inputs)\n",
    "                loss = self.criterion(outputs, targets)\n",
    "                test_loss += loss.item()\n",
    "        return test_loss / len(testData)\n",
    "\n",
    "    def getMae(self, testData):\n",
    "        self.model.eval()\n",
    "        mae = 0\n",
    "        mae_criterion = nn.L1Loss()\n",
    "        with torch.no_grad():\n",
    "            for inputs, targets in testData:\n",
    "                inputs, targets = self._prepare_data(inputs, targets)\n",
    "                outputs = self.model(inputs)\n",
    "                mae += mae_criterion(outputs, targets).item()\n",
    "        return mae / len(testData)"
   ]
  },
  {
   "cell_type": "markdown",
   "id": "2bfc5f3d-b27e-45d8-8fac-8defbd12af38",
   "metadata": {},
   "source": [
    "### 5.3 Инициализация и обучение моделей"
   ]
  },
  {
   "cell_type": "code",
   "execution_count": 11,
   "id": "1d3fe5e9-529d-4ed8-b0e5-e79a32e4ab71",
   "metadata": {},
   "outputs": [
    {
     "name": "stdout",
     "output_type": "stream",
     "text": [
      "Finished training of epoch - 0 with train loss - 0.6705446646494024 and test loss - 0.18685649633407592\n",
      "Finished training of epoch - 1 with train loss - 0.35083188116550446 and test loss - 0.1628475531935692\n",
      "Finished training of epoch - 2 with train loss - 0.2314119387198897 and test loss - 0.1591910570859909\n",
      "Finished training of epoch - 3 with train loss - 0.19977657190140555 and test loss - 0.17119359746575355\n",
      "Finished training of epoch - 4 with train loss - 0.19045225311728084 and test loss - 0.14757075309753417\n",
      "Finished training of epoch - 5 with train loss - 0.17875116910128033 and test loss - 0.14273872822523118\n",
      "Finished training of epoch - 6 with train loss - 0.1735130327151102 and test loss - 0.13683955520391464\n",
      "Finished training of epoch - 7 with train loss - 0.1662441235693062 and test loss - 0.1218585342168808\n",
      "Finished training of epoch - 8 with train loss - 0.1643523981466013 and test loss - 0.12135787010192871\n",
      "Finished training of epoch - 9 with train loss - 0.16072171159526882 and test loss - 0.1135963149368763\n",
      "Finished training of epoch - 10 with train loss - 0.15745489825220668 and test loss - 0.109767035394907\n",
      "Finished training of epoch - 11 with train loss - 0.15839428147848914 and test loss - 0.1051741324365139\n",
      "Finished training of epoch - 12 with train loss - 0.155407016768175 and test loss - 0.10170647501945496\n",
      "Finished training of epoch - 13 with train loss - 0.15323258761097402 and test loss - 0.11245310008525848\n",
      "Finished training of epoch - 14 with train loss - 0.15214608434368582 and test loss - 0.10410639569163323\n",
      "Finished training of epoch - 15 with train loss - 0.15165577346787734 and test loss - 0.0969874307513237\n",
      "Finished training of epoch - 16 with train loss - 0.14685703014187954 and test loss - 0.09352760389447212\n",
      "Finished training of epoch - 17 with train loss - 0.17403543521376216 and test loss - 0.09243952110409737\n",
      "Finished training of epoch - 18 with train loss - 0.14960919539718068 and test loss - 0.09635400250554085\n",
      "Finished training of epoch - 19 with train loss - 0.1688022131428999 and test loss - 0.09718200117349625\n",
      "Finished training of epoch - 20 with train loss - 0.14651607546736212 and test loss - 0.09230965822935104\n",
      "Finished training of epoch - 21 with train loss - 0.144351760035052 and test loss - 0.09319971278309822\n",
      "Finished training of epoch - 22 with train loss - 0.17257089693756664 and test loss - 0.08328481763601303\n",
      "Finished training of epoch - 23 with train loss - 0.16256637432995966 and test loss - 0.08892285525798797\n",
      "Finished training of epoch - 24 with train loss - 0.14390506420065374 and test loss - 0.08981334045529366\n",
      "Finished training of epoch - 25 with train loss - 0.14481658707646763 and test loss - 0.08780546262860298\n",
      "Finished training of epoch - 26 with train loss - 0.14241208530524196 and test loss - 0.088223847001791\n",
      "Finished training of epoch - 27 with train loss - 0.14197361797970884 and test loss - 0.08343819752335549\n",
      "Finished training of epoch - 28 with train loss - 0.15513487225946257 and test loss - 0.08460498526692391\n",
      "Finished training of epoch - 29 with train loss - 0.15734881250297322 and test loss - 0.08749830424785614\n",
      "Finished training of epoch - 30 with train loss - 0.14140229759847417 and test loss - 0.08944894075393676\n",
      "Finished training of epoch - 31 with train loss - 0.14223376880673802 and test loss - 0.08820021077990532\n",
      "Finished training of epoch - 32 with train loss - 0.14138327911496162 and test loss - 0.09160052463412285\n",
      "Finished training of epoch - 33 with train loss - 0.13854888760868242 and test loss - 0.08488578572869301\n",
      "Finished training of epoch - 34 with train loss - 0.1385091488413951 and test loss - 0.0829367309808731\n",
      "Finished training of epoch - 35 with train loss - 0.14178419463774738 and test loss - 0.08552141226828099\n",
      "Finished training of epoch - 36 with train loss - 0.1385181885870064 and test loss - 0.08316279575228691\n",
      "Finished training of epoch - 37 with train loss - 0.1374890444909825 and test loss - 0.08099650293588638\n",
      "Finished training of epoch - 38 with train loss - 0.13970468631562064 and test loss - 0.08566074222326278\n",
      "Finished training of epoch - 39 with train loss - 0.1362833654617562 and test loss - 0.08359257206320762\n",
      "Finished training of epoch - 40 with train loss - 0.14252718296997688 and test loss - 0.0893976915627718\n",
      "Finished training of epoch - 41 with train loss - 0.14195714584168265 and test loss - 0.08483936935663224\n",
      "Finished training of epoch - 42 with train loss - 0.14748823949519327 and test loss - 0.08571006506681442\n",
      "Finished training of epoch - 43 with train loss - 0.13911540170802789 and test loss - 0.08619153425097466\n",
      "Finished training of epoch - 44 with train loss - 0.13848008544129484 and test loss - 0.0859527200460434\n",
      "Finished training of epoch - 45 with train loss - 0.13708453997969627 and test loss - 0.08367713391780854\n",
      "Finished training of epoch - 46 with train loss - 0.13660061534713297 and test loss - 0.08084044456481934\n",
      "Finished training of epoch - 47 with train loss - 0.1362963636570117 and test loss - 0.08063886612653733\n",
      "Finished training of epoch - 48 with train loss - 0.13885308035156307 and test loss - 0.0816715344786644\n",
      "Finished training of epoch - 49 with train loss - 0.13724352178328178 and test loss - 0.08326520398259163\n"
     ]
    },
    {
     "data": {
      "image/png": "[encoded data removed]",
      "text/plain": [
       "<Figure size 640x480 with 1 Axes>"
      ]
     },
     "metadata": {},
     "output_type": "display_data"
    },
    {
     "name": "stdout",
     "output_type": "stream",
     "text": [
      "Finished training of epoch - 0 with train loss - 0.4918911097680821 and test loss - 0.11591003127396107\n",
      "Finished training of epoch - 1 with train loss - 0.225203873918337 and test loss - 0.09658124595880509\n",
      "Finished training of epoch - 2 with train loss - 0.1460340373656329 and test loss - 0.106107781175524\n",
      "Finished training of epoch - 3 with train loss - 0.12758435221279368 and test loss - 0.08536047153174878\n",
      "Finished training of epoch - 4 with train loss - 0.1462128778152606 and test loss - 0.10200359523296357\n",
      "Finished training of epoch - 5 with train loss - 0.11329307166092537 and test loss - 0.07865654230117798\n",
      "Finished training of epoch - 6 with train loss - 0.10162006888319464 and test loss - 0.11006179377436638\n",
      "Finished training of epoch - 7 with train loss - 0.0794124767622527 and test loss - 0.0729683868587017\n",
      "Finished training of epoch - 8 with train loss - 0.07534425683757838 and test loss - 0.07225645706057549\n",
      "Finished training of epoch - 9 with train loss - 0.061725512475651854 and test loss - 0.06955449595116078\n",
      "Finished training of epoch - 10 with train loss - 0.05117927184876274 and test loss - 0.07520866417326033\n",
      "Finished training of epoch - 11 with train loss - 0.04926358492058866 and test loss - 0.07809136402793229\n",
      "Finished training of epoch - 12 with train loss - 0.038139294613810146 and test loss - 0.09082870185375214\n",
      "Finished training of epoch - 13 with train loss - 0.036837918026482355 and test loss - 0.08210015528475197\n",
      "Finished training of epoch - 14 with train loss - 0.03331005704753539 and test loss - 0.08810239649610593\n",
      "Finished training of epoch - 15 with train loss - 0.03165888117955012 and test loss - 0.0858951447531581\n",
      "Finished training of epoch - 16 with train loss - 0.02891905457877061 and test loss - 0.08613517346675507\n",
      "Finished training of epoch - 17 with train loss - 0.0250790043569663 and test loss - 0.07774929557344876\n",
      "Finished training of epoch - 18 with train loss - 0.024258868179886657 and test loss - 0.09688933193683624\n",
      "Finished training of epoch - 19 with train loss - 0.022071448757367974 and test loss - 0.0957464974373579\n",
      "Finished training of epoch - 20 with train loss - 0.01986183924600482 and test loss - 0.08304294222034514\n",
      "Finished training of epoch - 21 with train loss - 0.020226183018701917 and test loss - 0.08264992088079452\n",
      "Finished training of epoch - 22 with train loss - 0.017523970235796535 and test loss - 0.08096160180866718\n",
      "Finished training of epoch - 23 with train loss - 0.015607631436603911 and test loss - 0.08697717050090432\n",
      "Finished training of epoch - 24 with train loss - 0.013186525252154645 and test loss - 0.08875849992036819\n",
      "Finished training of epoch - 25 with train loss - 0.010804382207639077 and test loss - 0.08933894783258438\n",
      "Finished training of epoch - 26 with train loss - 0.00976416838410146 and test loss - 0.09701109230518341\n",
      "Finished training of epoch - 27 with train loss - 0.008217376684222151 and test loss - 0.0843645540997386\n",
      "Finished training of epoch - 28 with train loss - 0.008305451558793293 and test loss - 0.10147092491388321\n",
      "Finished training of epoch - 29 with train loss - 0.007762862396809985 and test loss - 0.08781043234048411\n",
      "Finished training of epoch - 30 with train loss - 0.007154861848582239 and test loss - 0.09454431645572185\n",
      "Finished training of epoch - 31 with train loss - 0.010137139299117467 and test loss - 0.09001848790794612\n",
      "Finished training of epoch - 32 with train loss - 0.008459217819001745 and test loss - 0.09421664737164974\n",
      "Finished training of epoch - 33 with train loss - 0.00970268830218736 and test loss - 0.09810058437287808\n",
      "Finished training of epoch - 34 with train loss - 0.009426201145876856 and test loss - 0.09775558114051819\n",
      "Finished training of epoch - 35 with train loss - 0.010166874401928747 and test loss - 0.08983521675691009\n",
      "Finished training of epoch - 36 with train loss - 0.009827615693211555 and test loss - 0.09311768338084221\n",
      "Finished training of epoch - 37 with train loss - 0.007338096962912995 and test loss - 0.09308797901903745\n",
      "Finished training of epoch - 38 with train loss - 0.0066906522877295226 and test loss - 0.09472580063156784\n",
      "Finished training of epoch - 39 with train loss - 0.010011074681054144 and test loss - 0.0862996202427894\n",
      "Finished training of epoch - 40 with train loss - 0.011849192916141713 and test loss - 0.08740100748836994\n",
      "Finished training of epoch - 41 with train loss - 0.01629390090923099 and test loss - 0.09277208591811359\n",
      "Finished training of epoch - 42 with train loss - 0.01296617737149491 and test loss - 0.0886565474793315\n",
      "Finished training of epoch - 43 with train loss - 0.012720008764196844 and test loss - 0.09113820958882571\n",
      "Finished training of epoch - 44 with train loss - 0.013579749474849771 and test loss - 0.09548637429252267\n",
      "Finished training of epoch - 45 with train loss - 0.01424984894145061 and test loss - 0.10178191158920527\n",
      "Finished training of epoch - 46 with train loss - 0.011800505933077896 and test loss - 0.09294278779998422\n",
      "Finished training of epoch - 47 with train loss - 0.00834810090086916 and test loss - 0.08957145434687845\n",
      "Finished training of epoch - 48 with train loss - 0.007701639058616231 and test loss - 0.09402323216199875\n",
      "Finished training of epoch - 49 with train loss - 0.007932607399518876 and test loss - 0.0903027513888901\n"
     ]
    },
    {
     "data": {
      "image/png": "[encoded data removed]",
      "text/plain": [
       "<Figure size 640x480 with 1 Axes>"
      ]
     },
     "metadata": {},
     "output_type": "display_data"
    },
    {
     "name": "stdout",
     "output_type": "stream",
     "text": [
      "Finished training of epoch - 0 with train loss - 0.4639061102095772 and test loss - 0.10233265161514282\n",
      "Finished training of epoch - 1 with train loss - 0.237468941246762 and test loss - 0.11305566504597664\n",
      "Finished training of epoch - 2 with train loss - 0.19242102214518716 and test loss - 0.16642514169216155\n",
      "Finished training of epoch - 3 with train loss - 0.15942675927106073 and test loss - 0.09451344013214111\n",
      "Finished training of epoch - 4 with train loss - 0.1425693777992445 and test loss - 0.09475069716572762\n",
      "Finished training of epoch - 5 with train loss - 0.10880431532859802 and test loss - 0.09814706891775131\n",
      "Finished training of epoch - 6 with train loss - 0.078008713091121 and test loss - 0.09635736271739007\n",
      "Finished training of epoch - 7 with train loss - 0.08554630310219877 and test loss - 0.10461144149303436\n",
      "Finished training of epoch - 8 with train loss - 0.09680633663254626 and test loss - 0.114644093811512\n",
      "Finished training of epoch - 9 with train loss - 0.07357112734633334 and test loss - 0.08762137740850448\n",
      "Finished training of epoch - 10 with train loss - 0.05204325739075156 and test loss - 0.11227226257324219\n",
      "Finished training of epoch - 11 with train loss - 0.047336691771360004 and test loss - 0.08120345287024974\n",
      "Finished training of epoch - 12 with train loss - 0.04314048664973063 and test loss - 0.08961840495467185\n",
      "Finished training of epoch - 13 with train loss - 0.03930503239526468 and test loss - 0.07716927910223603\n",
      "Finished training of epoch - 14 with train loss - 0.033478636020684946 and test loss - 0.07926784884184598\n",
      "Finished training of epoch - 15 with train loss - 0.04237308320315445 and test loss - 0.07866989932954312\n",
      "Finished training of epoch - 16 with train loss - 0.04557979391778216 and test loss - 0.1036741491407156\n",
      "Finished training of epoch - 17 with train loss - 0.02888056663248469 and test loss - 0.07974828639999032\n",
      "Finished training of epoch - 18 with train loss - 0.028367253294324175 and test loss - 0.11229463964700699\n",
      "Finished training of epoch - 19 with train loss - 0.03475830260225955 and test loss - 0.08674379862661681\n",
      "Finished training of epoch - 20 with train loss - 0.03395870558040984 and test loss - 0.08452252186834812\n",
      "Finished training of epoch - 21 with train loss - 0.02664077391519266 and test loss - 0.08417727029882371\n",
      "Finished training of epoch - 22 with train loss - 0.02389924545936725 and test loss - 0.0972240571398288\n",
      "Finished training of epoch - 23 with train loss - 0.02093726544476607 and test loss - 0.0932342974236235\n",
      "Finished training of epoch - 24 with train loss - 0.014017953537404537 and test loss - 0.10079562664031982\n",
      "Finished training of epoch - 25 with train loss - 0.012128893477732645 and test loss - 0.09434310354590707\n",
      "Finished training of epoch - 26 with train loss - 0.012276114019400933 and test loss - 0.08867365457117557\n",
      "Finished training of epoch - 27 with train loss - 0.011117138379417798 and test loss - 0.09307636697776615\n",
      "Finished training of epoch - 28 with train loss - 0.011738629765151179 and test loss - 0.11435043218079954\n",
      "Finished training of epoch - 29 with train loss - 0.01570663521723712 and test loss - 0.09430824909359217\n",
      "Finished training of epoch - 30 with train loss - 0.009870504878242226 and test loss - 0.08995654210448265\n",
      "Finished training of epoch - 31 with train loss - 0.00926908228875083 and test loss - 0.08954264549538493\n",
      "Finished training of epoch - 32 with train loss - 0.008661874323425925 and test loss - 0.09924250515177846\n",
      "Finished training of epoch - 33 with train loss - 0.007529855678405832 and test loss - 0.1021231705788523\n",
      "Finished training of epoch - 34 with train loss - 0.008882385623805663 and test loss - 0.09207292124629021\n",
      "Finished training of epoch - 35 with train loss - 0.009014163905864252 and test loss - 0.09692476242780686\n",
      "Finished training of epoch - 36 with train loss - 0.00736594304223271 and test loss - 0.09271535500884057\n",
      "Finished training of epoch - 37 with train loss - 0.006442183080841513 and test loss - 0.09264480397105217\n",
      "Finished training of epoch - 38 with train loss - 0.007014546310529113 and test loss - 0.09572384133934975\n",
      "Finished training of epoch - 39 with train loss - 0.009260448271079975 and test loss - 0.09031047523021699\n",
      "Finished training of epoch - 40 with train loss - 0.00907130994121818 and test loss - 0.09460261091589928\n",
      "Finished training of epoch - 41 with train loss - 0.010050187024342664 and test loss - 0.09567573093809187\n",
      "Finished training of epoch - 42 with train loss - 0.00978004461263909 and test loss - 0.090588544216007\n",
      "Finished training of epoch - 43 with train loss - 0.006820714142283096 and test loss - 0.09692412428557873\n",
      "Finished training of epoch - 44 with train loss - 0.00830956784022205 and test loss - 0.08485211841762066\n",
      "Finished training of epoch - 45 with train loss - 0.014724038431749624 and test loss - 0.10520241260528565\n",
      "Finished training of epoch - 46 with train loss - 0.023807304253911272 and test loss - 0.09532454386353492\n",
      "Finished training of epoch - 47 with train loss - 0.029576050062828204 and test loss - 0.12797683663666248\n",
      "Finished training of epoch - 48 with train loss - 0.04190139976494452 and test loss - 0.108264911652077\n",
      "Finished training of epoch - 49 with train loss - 0.03543685639605803 and test loss - 0.1017160914838314\n"
     ]
    },
    {
     "data": {
      "image/png": "[encoded data removed]",
      "text/plain": [
       "<Figure size 640x480 with 1 Axes>"
      ]
     },
     "metadata": {},
     "output_type": "display_data"
    }
   ],
   "source": [
    "input_size = 58\n",
    "output_size = 1\n",
    "hidden_size = 50\n",
    "\n",
    "models =[\n",
    "    ModelTrainer(SimpleNet(input_size, output_size), False, \"Simple\"),\n",
    "    ModelTrainer(OneHiddenLayerNet(input_size, hidden_size, output_size), True, \"1 hidden layer\"),\n",
    "    ModelTrainer(MultiLayerNet(input_size, hidden_size, output_size), True, \"3 hidden layers\")\n",
    "]\n",
    "\n",
    "import matplotlib.pyplot as plt\n",
    "for model in models:\n",
    "    train_losses, test_losses = model.doTrain(50, train_dataloader, test_dataloader)\n",
    "    plt.plot(train_losses, label='Train Loss')\n",
    "    plt.plot(test_losses, label='Test Loss')\n",
    "    plt.title(\"Learning curve of model - \" + model.modelName)\n",
    "    plt.xlabel('Epoch')\n",
    "    plt.ylabel('Loss')\n",
    "    plt.legend()\n",
    "    plt.show()"
   ]
  },
  {
   "cell_type": "markdown",
   "id": "7fe712c6-cb99-44d2-af9c-8f996205cccf",
   "metadata": {},
   "source": [
    "## 6. Подсчет метрик"
   ]
  },
  {
   "cell_type": "code",
   "execution_count": 12,
   "id": "1da192f3-c575-4f46-aaaf-ea51b471a339",
   "metadata": {},
   "outputs": [
    {
     "name": "stdout",
     "output_type": "stream",
     "text": [
      "Model Simple - Train MAE: 0.2310754954814911, Test MAE: 0.2176945239305496\n",
      "Model 1 hidden layer - Train MAE: 0.06286667199695811, Test MAE: 0.19391955733299254\n",
      "Model 3 hidden layers - Train MAE: 0.11084610968828201, Test MAE: 0.24497342705726624\n"
     ]
    }
   ],
   "source": [
    "for model in models:\n",
    "    train_mae = model.getMae(train_dataloader)\n",
    "    test_mae = model.getMae(test_dataloader)\n",
    "    print(f\"Model {model.modelName} - Train MAE: {train_mae}, Test MAE: {test_mae}\")"
   ]
  },
  {
   "cell_type": "markdown",
   "id": "ed93dcaf-5b30-4418-96b4-8c874f27eed7",
   "metadata": {},
   "source": [
    "## 7. Сравнение метрик"
   ]
  },
  {
   "cell_type": "markdown",
   "id": "d7dd22fd-7ca8-4b5c-a900-e9a7dd3f2a31",
   "metadata": {},
   "source": [
    "#### Какая модель справилась лучше с поставленной задачей?"
   ]
  },
  {
   "cell_type": "markdown",
   "id": "9d9cafb6-6b61-4a9d-b56d-d0883b5e9178",
   "metadata": {},
   "source": [
    "Модель с 3 скрытыми слоями показала наименьшую ошибку MAE как на обучающей, так и на тестовой выборках. "
   ]
  },
  {
   "cell_type": "markdown",
   "id": "92c2d12f-9933-4401-aead-dfdd6f04aba9",
   "metadata": {},
   "source": [
    "#### Имеет ли место переобучение?"
   ]
  },
  {
   "cell_type": "markdown",
   "id": "b31e4c8e-a396-4c6e-adce-43a9c7198540",
   "metadata": {},
   "source": [
    "В данном случае, для модели “Simple” и “3 hidden layers” ошибка на обучающей выборке меньше, чем на тестовой, что может указывать на переобучение."
   ]
  },
  {
   "cell_type": "markdown",
   "id": "5c8066df-26d7-4130-846b-1ea1d442d819",
   "metadata": {},
   "source": [
    "#### Имеет ли место недообучение?"
   ]
  },
  {
   "cell_type": "markdown",
   "id": "33121506-db45-4e06-82aa-9c3eb5de53a8",
   "metadata": {},
   "source": [
    "Недообучение обычно происходит, когда модель показывает высокую ошибку как на обучающей, так и на тестовой выборках. В данном случае, все модели показывают относительно низкую ошибку, поэтому недообучение не имеет место."
   ]
  },
  {
   "cell_type": "markdown",
   "id": "0d1a6010-2376-4d7c-9f00-6dddaa1169e6",
   "metadata": {},
   "source": [
    "#### Как можно улучшить метрики моделей?"
   ]
  },
  {
   "cell_type": "markdown",
   "id": "0e61d764-f0a0-4339-a5b8-e10069ae4cab",
   "metadata": {},
   "source": [
    "Есть несколько способов улучшить метрики моделей:\n",
    "1. Увеличить количество данных.\n",
    "2. Регуляризация.\n",
    "3. Использование других моделей."
   ]
  }
 ],
 "metadata": {
  "kernelspec": {
   "display_name": "Python 3 (ipykernel)",
   "language": "python",
   "name": "python3"
  },
  "language_info": {
   "codemirror_mode": {
    "name": "ipython",
    "version": 3
   },
   "file_extension": ".py",
   "mimetype": "text/x-python",
   "name": "python",
   "nbconvert_exporter": "python",
   "pygments_lexer": "ipython3",
   "version": "3.11.4"
  }
 },
 "nbformat": 4,
 "nbformat_minor": 5
}
